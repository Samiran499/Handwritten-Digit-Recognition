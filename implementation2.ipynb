{
 "cells": [
  {
   "cell_type": "markdown",
   "metadata": {},
   "source": [
    "# Handwritten Digit Recignition\n",
    "In this notebook, I'll try to code it on a more tensorflow way. I'm not saving the model after the training. So, everytime the kernel restarts, it needs to trained. Feel free to change the hyperparameters, but for me these values feel good enough."
   ]
  },
  {
   "cell_type": "code",
   "execution_count": 1,
   "metadata": {},
   "outputs": [],
   "source": [
    "import os\n",
    "import numpy as np\n",
    "import tensorflow as tf\n",
    "import matplotlib.pyplot as plt\n",
    "import random"
   ]
  },
  {
   "cell_type": "markdown",
   "metadata": {},
   "source": [
    "### Define the model as subclass of Tensorflow"
   ]
  },
  {
   "cell_type": "code",
   "execution_count": 2,
   "metadata": {},
   "outputs": [],
   "source": [
    "class DigiRecModel(tf.keras.Model):\n",
    "    def __init__(self):\n",
    "        super(DigiRecModel, self).__init__()\n",
    "        self.conv1 = tf.keras.layers.Conv2D(32, (3, 3), activation='relu', input_shape=(28, 28, 1))\n",
    "        self.pool1 = tf.keras.layers.MaxPooling2D((2, 2))\n",
    "        self.dropout1 = tf.keras.layers.Dropout(0.25)\n",
    "\n",
    "        self.conv2 = tf.keras.layers.Conv2D(64, (3, 3), activation='relu')\n",
    "        self.pool2 = tf.keras.layers.MaxPooling2D((2, 2))\n",
    "        self.dropout2 = tf.keras.layers.Dropout(0.25)\n",
    "\n",
    "        self.flatten = tf.keras.layers.Flatten()\n",
    "        self.dense1 = tf.keras.layers.Dense(128, activation='relu')\n",
    "        self.dropout3 = tf.keras.layers.Dropout(0.5)\n",
    "        self.dense2 = tf.keras.layers.Dense(10, activation='softmax')\n",
    "\n",
    "    def call(self, inputs): # Override the tensorflow call function\n",
    "        x = self.conv1(inputs)\n",
    "        x = self.pool1(x)\n",
    "        x = self.dropout1(x)\n",
    "\n",
    "        x = self.conv2(x)\n",
    "        x = self.pool2(x)\n",
    "        x = self.dropout2(x)\n",
    "\n",
    "        x = self.flatten(x)\n",
    "        x = self.dense1(x)\n",
    "        x = self.dropout3(x)\n",
    "        return self.dense2(x)"
   ]
  },
  {
   "cell_type": "markdown",
   "metadata": {},
   "source": [
    "Now, I'm loading the datasets"
   ]
  },
  {
   "cell_type": "code",
   "execution_count": 3,
   "metadata": {},
   "outputs": [],
   "source": [
    "# Train datasets\n",
    "train_x = np.loadtxt(\"Dataset/train_X.csv\", delimiter=',')\n",
    "train_y = np.loadtxt(\"Dataset/train_label.csv\", delimiter=',')\n",
    "\n",
    "train_x = train_x.reshape(1000, 28, 28, 1) / 255.0\n",
    "\n",
    "# Test datasets\n",
    "test_x = np.loadtxt(\"Dataset/test_X.csv\", delimiter=',')\n",
    "test_y = np.loadtxt(\"Dataset/test_label.csv\", delimiter=',')\n",
    "\n",
    "test_x = test_x.reshape(350, 28, 28, 1) / 255.0"
   ]
  },
  {
   "cell_type": "markdown",
   "metadata": {},
   "source": [
    "Setting the hyperparametrs"
   ]
  },
  {
   "cell_type": "code",
   "execution_count": 4,
   "metadata": {},
   "outputs": [
    {
     "name": "stderr",
     "output_type": "stream",
     "text": [
      "c:\\Users\\Samiran\\AppData\\Local\\Programs\\Python\\Python311\\Lib\\site-packages\\keras\\src\\layers\\convolutional\\base_conv.py:107: UserWarning: Do not pass an `input_shape`/`input_dim` argument to a layer. When using Sequential models, prefer using an `Input(shape)` object as the first layer in the model instead.\n",
      "  super().__init__(activity_regularizer=activity_regularizer, **kwargs)\n"
     ]
    }
   ],
   "source": [
    "model = DigiRecModel()\n",
    "optimizer = tf.keras.optimizers.Adam()\n",
    "loss_fn = tf.keras.losses.CategoricalCrossentropy()\n",
    "batch_size = 1024\n",
    "epochs = 100\n",
    "\n",
    "train_dataset = tf.data.Dataset.from_tensor_slices((train_x, train_y)).batch(batch_size)"
   ]
  },
  {
   "cell_type": "markdown",
   "metadata": {},
   "source": [
    "Training on the dataset"
   ]
  },
  {
   "cell_type": "code",
   "execution_count": 5,
   "metadata": {},
   "outputs": [
    {
     "name": "stdout",
     "output_type": "stream",
     "text": [
      "Epoch 1/100\n",
      "Step 0: Loss = 2.3178508281707764\n",
      "Epoch 2/100\n",
      "Step 0: Loss = 2.241640567779541\n",
      "Epoch 3/100\n",
      "Step 0: Loss = 2.1786184310913086\n",
      "Epoch 4/100\n",
      "Step 0: Loss = 2.106067419052124\n",
      "Epoch 5/100\n",
      "Step 0: Loss = 2.018493175506592\n",
      "Epoch 6/100\n",
      "Step 0: Loss = 1.914111614227295\n",
      "Epoch 7/100\n",
      "Step 0: Loss = 1.7925931215286255\n",
      "Epoch 8/100\n",
      "Step 0: Loss = 1.6577489376068115\n",
      "Epoch 9/100\n",
      "Step 0: Loss = 1.5105403661727905\n",
      "Epoch 10/100\n",
      "Step 0: Loss = 1.3563337326049805\n",
      "Epoch 11/100\n",
      "Step 0: Loss = 1.2025800943374634\n",
      "Epoch 12/100\n",
      "Step 0: Loss = 1.0561362504959106\n",
      "Epoch 13/100\n",
      "Step 0: Loss = 0.9215712547302246\n",
      "Epoch 14/100\n",
      "Step 0: Loss = 0.8036444187164307\n",
      "Epoch 15/100\n",
      "Step 0: Loss = 0.7036007046699524\n",
      "Epoch 16/100\n",
      "Step 0: Loss = 0.6215906739234924\n",
      "Epoch 17/100\n",
      "Step 0: Loss = 0.5556108355522156\n",
      "Epoch 18/100\n",
      "Step 0: Loss = 0.5027874112129211\n",
      "Epoch 19/100\n",
      "Step 0: Loss = 0.4594978094100952\n",
      "Epoch 20/100\n",
      "Step 0: Loss = 0.4238792657852173\n",
      "Epoch 21/100\n",
      "Step 0: Loss = 0.39401665329933167\n",
      "Epoch 22/100\n",
      "Step 0: Loss = 0.36853352189064026\n",
      "Epoch 23/100\n",
      "Step 0: Loss = 0.34740206599235535\n",
      "Epoch 24/100\n",
      "Step 0: Loss = 0.32939431071281433\n",
      "Epoch 25/100\n",
      "Step 0: Loss = 0.31379246711730957\n",
      "Epoch 26/100\n",
      "Step 0: Loss = 0.30004072189331055\n",
      "Epoch 27/100\n",
      "Step 0: Loss = 0.28678709268569946\n",
      "Epoch 28/100\n",
      "Step 0: Loss = 0.2730759382247925\n",
      "Epoch 29/100\n",
      "Step 0: Loss = 0.2582893669605255\n",
      "Epoch 30/100\n",
      "Step 0: Loss = 0.24502167105674744\n",
      "Epoch 31/100\n",
      "Step 0: Loss = 0.23334334790706635\n",
      "Epoch 32/100\n",
      "Step 0: Loss = 0.22165225446224213\n",
      "Epoch 33/100\n",
      "Step 0: Loss = 0.20986109972000122\n",
      "Epoch 34/100\n",
      "Step 0: Loss = 0.19894647598266602\n",
      "Epoch 35/100\n",
      "Step 0: Loss = 0.18848970532417297\n",
      "Epoch 36/100\n",
      "Step 0: Loss = 0.17712092399597168\n",
      "Epoch 37/100\n",
      "Step 0: Loss = 0.16648580133914948\n",
      "Epoch 38/100\n",
      "Step 0: Loss = 0.15648262202739716\n",
      "Epoch 39/100\n",
      "Step 0: Loss = 0.1466849148273468\n",
      "Epoch 40/100\n",
      "Step 0: Loss = 0.13761278986930847\n",
      "Epoch 41/100\n",
      "Step 0: Loss = 0.1295119971036911\n",
      "Epoch 42/100\n",
      "Step 0: Loss = 0.1217297837138176\n",
      "Epoch 43/100\n",
      "Step 0: Loss = 0.11435377597808838\n",
      "Epoch 44/100\n",
      "Step 0: Loss = 0.10758493095636368\n",
      "Epoch 45/100\n",
      "Step 0: Loss = 0.10114167630672455\n",
      "Epoch 46/100\n",
      "Step 0: Loss = 0.0951845571398735\n",
      "Epoch 47/100\n",
      "Step 0: Loss = 0.08966197818517685\n",
      "Epoch 48/100\n",
      "Step 0: Loss = 0.08430445939302444\n",
      "Epoch 49/100\n",
      "Step 0: Loss = 0.07922212779521942\n",
      "Epoch 50/100\n",
      "Step 0: Loss = 0.07431324571371078\n",
      "Epoch 51/100\n",
      "Step 0: Loss = 0.06961411982774734\n",
      "Epoch 52/100\n",
      "Step 0: Loss = 0.06521379947662354\n",
      "Epoch 53/100\n",
      "Step 0: Loss = 0.06097457557916641\n",
      "Epoch 54/100\n",
      "Step 0: Loss = 0.05707938224077225\n",
      "Epoch 55/100\n",
      "Step 0: Loss = 0.05338425561785698\n",
      "Epoch 56/100\n",
      "Step 0: Loss = 0.04989120364189148\n",
      "Epoch 57/100\n",
      "Step 0: Loss = 0.04660136252641678\n",
      "Epoch 58/100\n",
      "Step 0: Loss = 0.04345005750656128\n",
      "Epoch 59/100\n",
      "Step 0: Loss = 0.040537312626838684\n",
      "Epoch 60/100\n",
      "Step 0: Loss = 0.037772662937641144\n",
      "Epoch 61/100\n",
      "Step 0: Loss = 0.03521261736750603\n",
      "Epoch 62/100\n",
      "Step 0: Loss = 0.032821401953697205\n",
      "Epoch 63/100\n",
      "Step 0: Loss = 0.030610304325819016\n",
      "Epoch 64/100\n",
      "Step 0: Loss = 0.02855490706861019\n",
      "Epoch 65/100\n",
      "Step 0: Loss = 0.026637760922312737\n",
      "Epoch 66/100\n",
      "Step 0: Loss = 0.024832041934132576\n",
      "Epoch 67/100\n",
      "Step 0: Loss = 0.023160744458436966\n",
      "Epoch 68/100\n",
      "Step 0: Loss = 0.0216083787381649\n",
      "Epoch 69/100\n",
      "Step 0: Loss = 0.020175565034151077\n",
      "Epoch 70/100\n",
      "Step 0: Loss = 0.018833929672837257\n",
      "Epoch 71/100\n",
      "Step 0: Loss = 0.017603760585188866\n",
      "Epoch 72/100\n",
      "Step 0: Loss = 0.016456108540296555\n",
      "Epoch 73/100\n",
      "Step 0: Loss = 0.015409826301038265\n",
      "Epoch 74/100\n",
      "Step 0: Loss = 0.014448892325162888\n",
      "Epoch 75/100\n",
      "Step 0: Loss = 0.013573836535215378\n",
      "Epoch 76/100\n",
      "Step 0: Loss = 0.012771883979439735\n",
      "Epoch 77/100\n",
      "Step 0: Loss = 0.012032274156808853\n",
      "Epoch 78/100\n",
      "Step 0: Loss = 0.011357826180756092\n",
      "Epoch 79/100\n",
      "Step 0: Loss = 0.010733556933701038\n",
      "Epoch 80/100\n",
      "Step 0: Loss = 0.010165547952055931\n",
      "Epoch 81/100\n",
      "Step 0: Loss = 0.009645308367908001\n",
      "Epoch 82/100\n",
      "Step 0: Loss = 0.009163652546703815\n",
      "Epoch 83/100\n",
      "Step 0: Loss = 0.008721034973859787\n",
      "Epoch 84/100\n",
      "Step 0: Loss = 0.008308477699756622\n",
      "Epoch 85/100\n",
      "Step 0: Loss = 0.007924092933535576\n",
      "Epoch 86/100\n",
      "Step 0: Loss = 0.007568144239485264\n",
      "Epoch 87/100\n",
      "Step 0: Loss = 0.007234992925077677\n",
      "Epoch 88/100\n",
      "Step 0: Loss = 0.0069251758977770805\n",
      "Epoch 89/100\n",
      "Step 0: Loss = 0.006635413970798254\n",
      "Epoch 90/100\n",
      "Step 0: Loss = 0.006363060791045427\n",
      "Epoch 91/100\n",
      "Step 0: Loss = 0.006108693778514862\n",
      "Epoch 92/100\n",
      "Step 0: Loss = 0.005869969259947538\n",
      "Epoch 93/100\n",
      "Step 0: Loss = 0.005645832512527704\n",
      "Epoch 94/100\n",
      "Step 0: Loss = 0.005435459781438112\n",
      "Epoch 95/100\n",
      "Step 0: Loss = 0.005237169098109007\n",
      "Epoch 96/100\n",
      "Step 0: Loss = 0.00504996906965971\n",
      "Epoch 97/100\n",
      "Step 0: Loss = 0.004873701836913824\n",
      "Epoch 98/100\n",
      "Step 0: Loss = 0.0047074537724256516\n",
      "Epoch 99/100\n",
      "Step 0: Loss = 0.004550104029476643\n",
      "Epoch 100/100\n",
      "Step 0: Loss = 0.004401811398565769\n"
     ]
    }
   ],
   "source": [
    "for epoch in range(epochs):  # Reduced epochs for simplicity\n",
    "    print(f\"Epoch {epoch + 1}/{epochs}\")\n",
    "    for step, (x_batch, y_batch) in enumerate(train_dataset):\n",
    "        with tf.GradientTape() as tape:\n",
    "            predictions = model(x_batch, training=True)\n",
    "            loss = loss_fn(y_batch, predictions)\n",
    "\n",
    "        gradients = tape.gradient(loss, model.trainable_variables)\n",
    "        optimizer.apply_gradients(zip(gradients, model.trainable_variables))\n",
    "\n",
    "        if step % 10 == 0:\n",
    "            print(f\"Step {step}: Loss = {loss.numpy()}\")"
   ]
  },
  {
   "cell_type": "markdown",
   "metadata": {},
   "source": [
    "### Evaluation of the model"
   ]
  },
  {
   "cell_type": "code",
   "execution_count": 6,
   "metadata": {},
   "outputs": [
    {
     "name": "stdout",
     "output_type": "stream",
     "text": [
      "Test dataset results \n",
      " Loss: 0.31160372495651245 \n",
      " Accuracy: 0.9285714030265808\n"
     ]
    }
   ],
   "source": [
    "loss_fn = tf.keras.losses.CategoricalCrossentropy()\n",
    "accuracy_metric = tf.keras.metrics.CategoricalAccuracy()\n",
    "test_predictions = model(test_x, training=False)\n",
    "loss = loss_fn(test_y, test_predictions).numpy()\n",
    "accuracy_metric.update_state(test_y, test_predictions)\n",
    "accuracy = accuracy_metric.result().numpy()\n",
    "print(f\"Test dataset results \\n Loss: {loss} \\n Accuracy: {accuracy}\")"
   ]
  },
  {
   "cell_type": "markdown",
   "metadata": {},
   "source": [
    "### Demo for the model"
   ]
  },
  {
   "cell_type": "code",
   "execution_count": 8,
   "metadata": {},
   "outputs": [
    {
     "data": {
      "image/png": "[encoded data removed]",
      "text/plain": [
       "<Figure size 640x480 with 1 Axes>"
      ]
     },
     "metadata": {},
     "output_type": "display_data"
    },
    {
     "name": "stdout",
     "output_type": "stream",
     "text": [
      "The predicted digit is 3\n"
     ]
    },
    {
     "data": {
      "image/png": "[encoded data removed]",
      "text/plain": [
       "<Figure size 640x480 with 1 Axes>"
      ]
     },
     "metadata": {},
     "output_type": "display_data"
    },
    {
     "name": "stdout",
     "output_type": "stream",
     "text": [
      "The predicted digit is 3\n"
     ]
    },
    {
     "data": {
      "image/png": "[encoded data removed]",
      "text/plain": [
       "<Figure size 640x480 with 1 Axes>"
      ]
     },
     "metadata": {},
     "output_type": "display_data"
    },
    {
     "name": "stdout",
     "output_type": "stream",
     "text": [
      "The predicted digit is 0\n"
     ]
    }
   ],
   "source": [
    "itr = int(input(\"How many examples do you want to see? \"))\n",
    "for _ in range(itr):\n",
    "    index = random.randint(0, len(test_y) - 1)\n",
    "    plt.imshow(test_x[index].reshape(28, 28), cmap='gray')\n",
    "    plt.show()\n",
    "\n",
    "    prediction_y = model(test_x[index:index + 1])\n",
    "    predicted_value = np.argmax(prediction_y.numpy())\n",
    "    print(\"The predicted digit is\", predicted_value)"
   ]
  }
 ],
 "metadata": {
  "kernelspec": {
   "display_name": "Python 3",
   "language": "python",
   "name": "python3"
  },
  "language_info": {
   "codemirror_mode": {
    "name": "ipython",
    "version": 3
   },
   "file_extension": ".py",
   "mimetype": "text/x-python",
   "name": "python",
   "nbconvert_exporter": "python",
   "pygments_lexer": "ipython3",
   "version": "3.11.9"
  }
 },
 "nbformat": 4,
 "nbformat_minor": 2
}

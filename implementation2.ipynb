{
 "cells": [
  {
   "cell_type": "markdown",
   "metadata": {},
   "source": [
    "# Handwritten Digit Recignition\n",
    "In this notebook, I'll try to code it on a more tensorflow way. I'm not saving the model after the training. So, everytime the kernel restarts, it needs to trained. Feel free to change the hyperparameters, but for me these values feel good enough."
   ]
  },
  {
   "cell_type": "code",
   "execution_count": 1,
   "metadata": {},
   "outputs": [],
   "source": [
    "import os\n",
    "import numpy as np\n",
    "import tensorflow as tf\n",
    "import matplotlib.pyplot as plt\n",
    "import random"
   ]
  },
  {
   "cell_type": "markdown",
   "metadata": {},
   "source": [
    "### Define the model as subclass of Tensorflow"
   ]
  },
  {
   "cell_type": "code",
   "execution_count": 2,
   "metadata": {},
   "outputs": [],
   "source": [
    "class DigiRecModel(tf.keras.Model):\n",
    "    def __init__(self):\n",
    "        super(DigiRecModel, self).__init__()\n",
    "        self.conv1 = tf.keras.layers.Conv2D(32, (3, 3), activation='relu', input_shape=(28, 28, 1))\n",
    "        self.pool1 = tf.keras.layers.MaxPooling2D((2, 2))\n",
    "        self.dropout1 = tf.keras.layers.Dropout(0.25)\n",
    "\n",
    "        self.conv2 = tf.keras.layers.Conv2D(64, (3, 3), activation='relu')\n",
    "        self.pool2 = tf.keras.layers.MaxPooling2D((2, 2))\n",
    "        self.dropout2 = tf.keras.layers.Dropout(0.25)\n",
    "\n",
    "        self.flatten = tf.keras.layers.Flatten()\n",
    "        self.dense1 = tf.keras.layers.Dense(128, activation='relu')\n",
    "        self.dropout3 = tf.keras.layers.Dropout(0.5)\n",
    "        self.dense2 = tf.keras.layers.Dense(10, activation='softmax')\n",
    "\n",
    "    def call(self, inputs): # Override the tensorflow call function\n",
    "        x = self.conv1(inputs)\n",
    "        x = self.pool1(x)\n",
    "        x = self.dropout1(x)\n",
    "\n",
    "        x = self.conv2(x)\n",
    "        x = self.pool2(x)\n",
    "        x = self.dropout2(x)\n",
    "\n",
    "        x = self.flatten(x)\n",
    "        x = self.dense1(x)\n",
    "        x = self.dropout3(x)\n",
    "        return self.dense2(x)"
   ]
  },
  {
   "cell_type": "markdown",
   "metadata": {},
   "source": [
    "Now, I'm loading the datasets"
   ]
  },
  {
   "cell_type": "code",
   "execution_count": 4,
   "metadata": {},
   "outputs": [],
   "source": [
    "# Train datasets\n",
    "train_x = np.loadtxt(\"Dataset/train_X.csv\", delimiter=',')\n",
    "train_y = np.loadtxt(\"Dataset/train_label.csv\", delimiter=',')\n",
    "\n",
    "train_x = train_x.reshape(1000, 28, 28, 1) / 255.0\n",
    "\n",
    "# Test datasets\n",
    "test_x = np.loadtxt(\"Dataset/test_X.csv\", delimiter=',')\n",
    "test_y = np.loadtxt(\"Dataset/test_label.csv\", delimiter=',')\n",
    "\n",
    "test_x = test_x.reshape(350, 28, 28, 1) / 255.0"
   ]
  },
  {
   "cell_type": "markdown",
   "metadata": {},
   "source": [
    "Setting the hyperparametrs"
   ]
  },
  {
   "cell_type": "code",
   "execution_count": 8,
   "metadata": {},
   "outputs": [
    {
     "name": "stderr",
     "output_type": "stream",
     "text": [
      "c:\\Users\\samiran\\AppData\\Local\\Programs\\Python\\Python311\\Lib\\site-packages\\keras\\src\\layers\\convolutional\\base_conv.py:107: UserWarning: Do not pass an `input_shape`/`input_dim` argument to a layer. When using Sequential models, prefer using an `Input(shape)` object as the first layer in the model instead.\n",
      "  super().__init__(activity_regularizer=activity_regularizer, **kwargs)\n"
     ]
    }
   ],
   "source": [
    "model = DigiRecModel()\n",
    "optimizer = tf.keras.optimizers.Adam()\n",
    "loss_fn = tf.keras.losses.CategoricalCrossentropy()\n",
    "batch_size = 1024\n",
    "epochs = 100\n",
    "\n",
    "train_dataset = tf.data.Dataset.from_tensor_slices((train_x, train_y)).batch(batch_size)"
   ]
  },
  {
   "cell_type": "markdown",
   "metadata": {},
   "source": [
    "Training on the dataset"
   ]
  },
  {
   "cell_type": "code",
   "execution_count": 10,
   "metadata": {},
   "outputs": [
    {
     "name": "stdout",
     "output_type": "stream",
     "text": [
      "Epoch 1/100\n",
      "Step 0: Loss = 0.002364872954785824\n",
      "Epoch 2/100\n",
      "Step 0: Loss = 0.002301508327946067\n",
      "Epoch 3/100\n",
      "Step 0: Loss = 0.0022410950623452663\n",
      "Epoch 4/100\n",
      "Step 0: Loss = 0.0021834848448634148\n",
      "Epoch 5/100\n",
      "Step 0: Loss = 0.0021285596303641796\n",
      "Epoch 6/100\n",
      "Step 0: Loss = 0.0020761003252118826\n",
      "Epoch 7/100\n",
      "Step 0: Loss = 0.0020258817821741104\n",
      "Epoch 8/100\n",
      "Step 0: Loss = 0.0019777684938162565\n",
      "Epoch 9/100\n",
      "Step 0: Loss = 0.001931674312800169\n",
      "Epoch 10/100\n",
      "Step 0: Loss = 0.0018874863162636757\n",
      "Epoch 11/100\n",
      "Step 0: Loss = 0.0018450162606313825\n",
      "Epoch 12/100\n",
      "Step 0: Loss = 0.0018042037263512611\n",
      "Epoch 13/100\n",
      "Step 0: Loss = 0.0017650024965405464\n",
      "Epoch 14/100\n",
      "Step 0: Loss = 0.001727242604829371\n",
      "Epoch 15/100\n",
      "Step 0: Loss = 0.0016908623510971665\n",
      "Epoch 16/100\n",
      "Step 0: Loss = 0.0016558181960135698\n",
      "Epoch 17/100\n",
      "Step 0: Loss = 0.0016220082761719823\n",
      "Epoch 18/100\n",
      "Step 0: Loss = 0.0015893707750365138\n",
      "Epoch 19/100\n",
      "Step 0: Loss = 0.0015578654129058123\n",
      "Epoch 20/100\n",
      "Step 0: Loss = 0.0015274358447641134\n",
      "Epoch 21/100\n",
      "Step 0: Loss = 0.0014979700790718198\n",
      "Epoch 22/100\n",
      "Step 0: Loss = 0.0014694435521960258\n",
      "Epoch 23/100\n",
      "Step 0: Loss = 0.0014417989877983928\n",
      "Epoch 24/100\n",
      "Step 0: Loss = 0.0014150271890684962\n",
      "Epoch 25/100\n",
      "Step 0: Loss = 0.0013891091803088784\n",
      "Epoch 26/100\n",
      "Step 0: Loss = 0.001363943563774228\n",
      "Epoch 27/100\n",
      "Step 0: Loss = 0.0013394990237429738\n",
      "Epoch 28/100\n",
      "Step 0: Loss = 0.0013157589128240943\n",
      "Epoch 29/100\n",
      "Step 0: Loss = 0.0012926853960379958\n",
      "Epoch 30/100\n",
      "Step 0: Loss = 0.0012702782405540347\n",
      "Epoch 31/100\n",
      "Step 0: Loss = 0.0012484993785619736\n",
      "Epoch 32/100\n",
      "Step 0: Loss = 0.0012273190077394247\n",
      "Epoch 33/100\n",
      "Step 0: Loss = 0.0012067267671227455\n",
      "Epoch 34/100\n",
      "Step 0: Loss = 0.0011866920394822955\n",
      "Epoch 35/100\n",
      "Step 0: Loss = 0.001167205278761685\n",
      "Epoch 36/100\n",
      "Step 0: Loss = 0.0011482172412797809\n",
      "Epoch 37/100\n",
      "Step 0: Loss = 0.0011297102319076657\n",
      "Epoch 38/100\n",
      "Step 0: Loss = 0.0011116416426375508\n",
      "Epoch 39/100\n",
      "Step 0: Loss = 0.001094023697078228\n",
      "Epoch 40/100\n",
      "Step 0: Loss = 0.0010768384672701359\n",
      "Epoch 41/100\n",
      "Step 0: Loss = 0.0010600684909150004\n",
      "Epoch 42/100\n",
      "Step 0: Loss = 0.001043683267198503\n",
      "Epoch 43/100\n",
      "Step 0: Loss = 0.0010276803513988853\n",
      "Epoch 44/100\n",
      "Step 0: Loss = 0.001012043678201735\n",
      "Epoch 45/100\n",
      "Step 0: Loss = 0.0009967704536393285\n",
      "Epoch 46/100\n",
      "Step 0: Loss = 0.0009818354155868292\n",
      "Epoch 47/100\n",
      "Step 0: Loss = 0.0009672550950199366\n",
      "Epoch 48/100\n",
      "Step 0: Loss = 0.0009529944509267807\n",
      "Epoch 49/100\n",
      "Step 0: Loss = 0.0009390526101924479\n",
      "Epoch 50/100\n",
      "Step 0: Loss = 0.0009254152537323534\n",
      "Epoch 51/100\n",
      "Step 0: Loss = 0.0009120588074438274\n",
      "Epoch 52/100\n",
      "Step 0: Loss = 0.0008989996858872473\n",
      "Epoch 53/100\n",
      "Step 0: Loss = 0.0008862139075063169\n",
      "Epoch 54/100\n",
      "Step 0: Loss = 0.0008736843010410666\n",
      "Epoch 55/100\n",
      "Step 0: Loss = 0.0008614197722636163\n",
      "Epoch 56/100\n",
      "Step 0: Loss = 0.0008494140929542482\n",
      "Epoch 57/100\n",
      "Step 0: Loss = 0.0008376566111110151\n",
      "Epoch 58/100\n",
      "Step 0: Loss = 0.0008261328330263495\n",
      "Epoch 59/100\n",
      "Step 0: Loss = 0.0008148454362526536\n",
      "Epoch 60/100\n",
      "Step 0: Loss = 0.0008037911029532552\n",
      "Epoch 61/100\n",
      "Step 0: Loss = 0.0007929687271825969\n",
      "Epoch 62/100\n",
      "Step 0: Loss = 0.000782356015406549\n",
      "Epoch 63/100\n",
      "Step 0: Loss = 0.0007719469722360373\n",
      "Epoch 64/100\n",
      "Step 0: Loss = 0.0007617505616508424\n",
      "Epoch 65/100\n",
      "Step 0: Loss = 0.0007517507765442133\n",
      "Epoch 66/100\n",
      "Step 0: Loss = 0.0007419469184242189\n",
      "Epoch 67/100\n",
      "Step 0: Loss = 0.0007323219906538725\n",
      "Epoch 68/100\n",
      "Step 0: Loss = 0.0007228737813420594\n",
      "Epoch 69/100\n",
      "Step 0: Loss = 0.0007136143976822495\n",
      "Epoch 70/100\n",
      "Step 0: Loss = 0.0007045267266221344\n",
      "Epoch 71/100\n",
      "Step 0: Loss = 0.0006956125725992024\n",
      "Epoch 72/100\n",
      "Step 0: Loss = 0.0006868686177767813\n",
      "Epoch 73/100\n",
      "Step 0: Loss = 0.0006782870041206479\n",
      "Epoch 74/100\n",
      "Step 0: Loss = 0.0006698465440422297\n",
      "Epoch 75/100\n",
      "Step 0: Loss = 0.0006615614984184504\n",
      "Epoch 76/100\n",
      "Step 0: Loss = 0.0006534277927130461\n",
      "Epoch 77/100\n",
      "Step 0: Loss = 0.0006454373360611498\n",
      "Epoch 78/100\n",
      "Step 0: Loss = 0.0006375942029990256\n",
      "Epoch 79/100\n",
      "Step 0: Loss = 0.0006298830267041922\n",
      "Epoch 80/100\n",
      "Step 0: Loss = 0.0006223057862371206\n",
      "Epoch 81/100\n",
      "Step 0: Loss = 0.0006148663815110922\n",
      "Epoch 82/100\n",
      "Step 0: Loss = 0.0006075571291148663\n",
      "Epoch 83/100\n",
      "Step 0: Loss = 0.0006003690650686622\n",
      "Epoch 84/100\n",
      "Step 0: Loss = 0.0005933110951445997\n",
      "Epoch 85/100\n",
      "Step 0: Loss = 0.0005863748956471682\n",
      "Epoch 86/100\n",
      "Step 0: Loss = 0.0005795549950562418\n",
      "Epoch 87/100\n",
      "Step 0: Loss = 0.0005728474934585392\n",
      "Epoch 88/100\n",
      "Step 0: Loss = 0.0005662509938701987\n",
      "Epoch 89/100\n",
      "Step 0: Loss = 0.0005597656709142029\n",
      "Epoch 90/100\n",
      "Step 0: Loss = 0.0005533804069273174\n",
      "Epoch 91/100\n",
      "Step 0: Loss = 0.0005470985197462142\n",
      "Epoch 92/100\n",
      "Step 0: Loss = 0.0005409178556874394\n",
      "Epoch 93/100\n",
      "Step 0: Loss = 0.0005348398699425161\n",
      "Epoch 94/100\n",
      "Step 0: Loss = 0.000528857228346169\n",
      "Epoch 95/100\n",
      "Step 0: Loss = 0.0005229661474004388\n",
      "Epoch 96/100\n",
      "Step 0: Loss = 0.0005171674420125782\n",
      "Epoch 97/100\n",
      "Step 0: Loss = 0.0005114616942591965\n",
      "Epoch 98/100\n",
      "Step 0: Loss = 0.0005058404640294611\n",
      "Epoch 99/100\n",
      "Step 0: Loss = 0.0005003087571822107\n",
      "Epoch 100/100\n",
      "Step 0: Loss = 0.000494866631925106\n"
     ]
    }
   ],
   "source": [
    "for epoch in range(epochs):  # Reduced epochs for simplicity\n",
    "    print(f\"Epoch {epoch + 1}/{epochs}\")\n",
    "    for step, (x_batch, y_batch) in enumerate(train_dataset):\n",
    "        with tf.GradientTape() as tape:\n",
    "            predictions = model(x_batch, training=True)\n",
    "            loss = loss_fn(y_batch, predictions)\n",
    "\n",
    "        gradients = tape.gradient(loss, model.trainable_variables)\n",
    "        optimizer.apply_gradients(zip(gradients, model.trainable_variables))\n",
    "\n",
    "        if step % 10 == 0:\n",
    "            print(f\"Step {step}: Loss = {loss.numpy()}\")"
   ]
  },
  {
   "cell_type": "markdown",
   "metadata": {},
   "source": [
    "### Evaluation of the model"
   ]
  },
  {
   "cell_type": "code",
   "execution_count": 16,
   "metadata": {},
   "outputs": [
    {
     "name": "stdout",
     "output_type": "stream",
     "text": [
      "Test dataset results \n",
      " Loss: 0.261959969997406 \n",
      " Accuracy: 0.9342857003211975\n"
     ]
    }
   ],
   "source": [
    "loss_fn = tf.keras.losses.CategoricalCrossentropy()\n",
    "accuracy_metric = tf.keras.metrics.CategoricalAccuracy()\n",
    "test_predictions = model(test_x, training=False)\n",
    "loss = loss_fn(test_y, test_predictions).numpy()\n",
    "accuracy_metric.update_state(test_y, test_predictions)\n",
    "accuracy = accuracy_metric.result().numpy()\n",
    "print(f\"Test dataset results \\n Loss: {loss} \\n Accuracy: {accuracy}\")"
   ]
  },
  {
   "cell_type": "markdown",
   "metadata": {},
   "source": [
    "### Demo for the model"
   ]
  },
  {
   "cell_type": "code",
   "execution_count": 18,
   "metadata": {},
   "outputs": [
    {
     "data": {
      "image/png": "[encoded data removed]",
      "text/plain": [
       "<Figure size 640x480 with 1 Axes>"
      ]
     },
     "metadata": {},
     "output_type": "display_data"
    },
    {
     "name": "stdout",
     "output_type": "stream",
     "text": [
      "The predicted digit is 4\n"
     ]
    }
   ],
   "source": [
    "itr = int(input(\"How many examples do you want to see? \"))\n",
    "for _ in range(itr):\n",
    "    index = random.randint(0, len(test_y) - 1)\n",
    "    plt.imshow(test_x[index].reshape(28, 28), cmap='gray')\n",
    "    plt.show()\n",
    "\n",
    "    prediction_y = model(test_x[index:index + 1])\n",
    "    predicted_value = np.argmax(prediction_y.numpy())\n",
    "    print(\"The predicted digit is\", predicted_value)"
   ]
  }
 ],
 "metadata": {
  "kernelspec": {
   "display_name": "Python 3",
   "language": "python",
   "name": "python3"
  },
  "language_info": {
   "codemirror_mode": {
    "name": "ipython",
    "version": 3
   },
   "file_extension": ".py",
   "mimetype": "text/x-python",
   "name": "python",
   "nbconvert_exporter": "python",
   "pygments_lexer": "ipython3",
   "version": "3.11.9"
  }
 },
 "nbformat": 4,
 "nbformat_minor": 2
}
